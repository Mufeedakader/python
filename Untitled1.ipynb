{
 "cells": [
  {
   "cell_type": "code",
   "execution_count": null,
   "id": "d9813f11-44e5-49f4-ad35-9e9da4924a37",
   "metadata": {},
   "outputs": [],
   "source": []
  }
 ],
 "metadata": {
  "kernelspec": {
   "display_name": "",
   "name": ""
  },
  "language_info": {
   "name": ""
  }
 },
 "nbformat": 4,
 "nbformat_minor": 5
}
