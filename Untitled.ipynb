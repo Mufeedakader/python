{
 "cells": [
  {
   "cell_type": "code",
   "execution_count": 1,
   "id": "cdc37a2c-9808-4908-a7c6-c83b761a00db",
   "metadata": {},
   "outputs": [
    {
     "name": "stdout",
     "output_type": "stream",
     "text": [
      "hello world\n"
     ]
    }
   ],
   "source": [
    "print('hello world')\n"
   ]
  },
  {
   "cell_type": "code",
   "execution_count": null,
   "id": "bb32c0ef-c9f2-4ef9-9ed5-a6f86bf1adfa",
   "metadata": {},
   "outputs": [],
   "source": []
  }
 ],
 "metadata": {
  "kernelspec": {
   "display_name": "Python 3 (ipykernel)",
   "language": "python",
   "name": "python3"
  },
  "language_info": {
   "codemirror_mode": {
    "name": "ipython",
    "version": 3
   },
   "file_extension": ".py",
   "mimetype": "text/x-python",
   "name": "python",
   "nbconvert_exporter": "python",
   "pygments_lexer": "ipython3",
   "version": "3.12.0"
  }
 },
 "nbformat": 4,
 "nbformat_minor": 5
}
